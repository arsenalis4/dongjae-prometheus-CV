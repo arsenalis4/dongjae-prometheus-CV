{
  "nbformat": 4,
  "nbformat_minor": 0,
  "metadata": {
    "colab": {
      "provenance": [],
      "collapsed_sections": [
        "FIWnVOeYby3f",
        "dO0w-ft0b4yh",
        "n-RLuunyf4XF",
        "k0ohBgcmpb6_",
        "N1II3qKgtHLA"
      ],
      "authorship_tag": "ABX9TyO5SnsK2PSmNqPxnznvMzYm",
      "include_colab_link": true
    },
    "kernelspec": {
      "name": "python3",
      "display_name": "Python 3"
    },
    "language_info": {
      "name": "python"
    }
  },
  "cells": [
    {
      "cell_type": "markdown",
      "metadata": {
        "id": "view-in-github",
        "colab_type": "text"
      },
      "source": [
        "<a href=\"https://colab.research.google.com/github/arsenalis4/dongjae-prometheus-CV/blob/main/Prometheus2_CV.ipynb\" target=\"_parent\"><img src=\"https://colab.research.google.com/assets/colab-badge.svg\" alt=\"Open In Colab\"/></a>"
      ]
    },
    {
      "cell_type": "markdown",
      "source": [
        "#1주차"
      ],
      "metadata": {
        "id": "NJxv7yUIWEGM"
      }
    },
    {
      "cell_type": "markdown",
      "source": [
        "##Basics of Pytorch"
      ],
      "metadata": {
        "id": "FIWnVOeYby3f"
      }
    },
    {
      "cell_type": "code",
      "execution_count": 4,
      "metadata": {
        "colab": {
          "base_uri": "https://localhost:8080/"
        },
        "id": "DZMegOX2V5ni",
        "outputId": "91f219fd-c63a-4007-ebbb-27f51012c246"
      },
      "outputs": [
        {
          "output_type": "stream",
          "name": "stdout",
          "text": [
            "Array Type: <class 'numpy.ndarray'>\n",
            "Array Shape: (2, 3)\n",
            "[[1 2 3]\n",
            " [4 5 6]]\n"
          ]
        }
      ],
      "source": [
        "import numpy as np\n",
        "\n",
        "array = [[1,2,3], [4,5,6]]\n",
        "first_array = np.array(array)\n",
        "print(\"Array Type: {}\".format(type(first_array)))\n",
        "print(\"Array Shape: {}\".format(np.shape(first_array)))\n",
        "print(first_array)"
      ]
    },
    {
      "cell_type": "code",
      "source": [
        "import torch\n",
        "\n",
        "tensor = torch.Tensor(array)\n",
        "print(\"Array Type: {}\".format(tensor.type))\n",
        "print(\"Array Shape: {}\".format(tensor.shape))\n",
        "print(tensor)"
      ],
      "metadata": {
        "colab": {
          "base_uri": "https://localhost:8080/"
        },
        "id": "zDDwJs6mXiYl",
        "outputId": "b426e435-826d-48a1-8519-5023eb650171"
      },
      "execution_count": 5,
      "outputs": [
        {
          "output_type": "stream",
          "name": "stdout",
          "text": [
            "Array Type: <built-in method type of Tensor object at 0x7fe516715a10>\n",
            "Array Shape: torch.Size([2, 3])\n",
            "tensor([[1., 2., 3.],\n",
            "        [4., 5., 6.]])\n"
          ]
        }
      ]
    },
    {
      "cell_type": "code",
      "source": [
        "print(\"Numpy {}\\n\".format(np.ones((2,3))))\n",
        "print(torch.ones((2,3)))"
      ],
      "metadata": {
        "colab": {
          "base_uri": "https://localhost:8080/"
        },
        "id": "uwqD59eEYDhU",
        "outputId": "454ad4d2-9e62-44b5-a3a7-aed51b6251fe"
      },
      "execution_count": 7,
      "outputs": [
        {
          "output_type": "stream",
          "name": "stdout",
          "text": [
            "Numpy [[1. 1. 1.]\n",
            " [1. 1. 1.]]\n",
            "\n",
            "tensor([[1., 1., 1.],\n",
            "        [1., 1., 1.]])\n"
          ]
        }
      ]
    },
    {
      "cell_type": "code",
      "source": [
        "print(\"Numpy {}\\n\".format(np.random.rand(2,3)))\n",
        "print(torch.rand(2,3))"
      ],
      "metadata": {
        "colab": {
          "base_uri": "https://localhost:8080/"
        },
        "id": "kN_4XjMFYLy7",
        "outputId": "47f15150-3d22-4c2b-b5a4-66e78e0954a7"
      },
      "execution_count": 8,
      "outputs": [
        {
          "output_type": "stream",
          "name": "stdout",
          "text": [
            "Numpy [[0.33442448 0.69490645 0.10267075]\n",
            " [0.35586089 0.98712416 0.54089807]]\n",
            "\n",
            "tensor([[0.2109, 0.3949, 0.9841],\n",
            "        [0.4285, 0.9959, 0.2956]])\n"
          ]
        }
      ]
    },
    {
      "cell_type": "code",
      "source": [
        "array = np.random.rand(2,2)\n",
        "print(\"{} {}\\n\".format(type(array), array))\n",
        "\n",
        "from_numpy_to_tensor = torch.from_numpy(array)\n",
        "print(\"{}\\n\".format(from_numpy_to_tensor))\n",
        "\n",
        "tensor = from_numpy_to_tensor\n",
        "from_tensor_to_numpy = tensor.numpy()\n",
        "print(\"{} {}\\n\".format(type(from_tensor_to_numpy), from_tensor_to_numpy))"
      ],
      "metadata": {
        "colab": {
          "base_uri": "https://localhost:8080/"
        },
        "id": "1Jn6f_FLYdic",
        "outputId": "bc33e127-64a0-4066-ba3f-d470f8255e3a"
      },
      "execution_count": 10,
      "outputs": [
        {
          "output_type": "stream",
          "name": "stdout",
          "text": [
            "<class 'numpy.ndarray'> [[0.92480035 0.507125  ]\n",
            " [0.03724816 0.71336857]]\n",
            "\n",
            "tensor([[0.9248, 0.5071],\n",
            "        [0.0372, 0.7134]], dtype=torch.float64)\n",
            "\n",
            "<class 'numpy.ndarray'> [[0.92480035 0.507125  ]\n",
            " [0.03724816 0.71336857]]\n",
            "\n"
          ]
        }
      ]
    },
    {
      "cell_type": "code",
      "source": [
        "tensor = torch.ones(3,3)\n",
        "print(\"\\n\", tensor)\n",
        "\n",
        "print(\"{}{}\\n\".format(tensor.view(9).shape, tensor.view(9)))\n",
        "\n",
        "print(\"Addition: {}\\n\".format(torch.add(tensor, tensor)))\n",
        "\n",
        "print(\"Substraction: {}\\n\".format(tensor.sub(tensor)))\n",
        "\n",
        "print(\"Element wise multiplication: {}\\n\".format(torch.mul(tensor, tensor)))\n",
        "\n",
        "print(\"Element wise division: {}\\n\".format(torch.div(tensor, tensor)))\n",
        "\n",
        "tensor = torch.Tensor([1,2,3,4,5])\n",
        "print(\"Mean: {}\".format(tensor.mean()))\n",
        "\n",
        "print(\"std: {}\".format(tensor.std()))"
      ],
      "metadata": {
        "colab": {
          "base_uri": "https://localhost:8080/"
        },
        "id": "rq0dIX3HYi0L",
        "outputId": "6a3dd8e0-71e7-4d82-83a4-b5a2285243b6"
      },
      "execution_count": 11,
      "outputs": [
        {
          "output_type": "stream",
          "name": "stdout",
          "text": [
            "\n",
            " tensor([[1., 1., 1.],\n",
            "        [1., 1., 1.],\n",
            "        [1., 1., 1.]])\n",
            "torch.Size([9])tensor([1., 1., 1., 1., 1., 1., 1., 1., 1.])\n",
            "\n",
            "Addition: tensor([[2., 2., 2.],\n",
            "        [2., 2., 2.],\n",
            "        [2., 2., 2.]])\n",
            "\n",
            "Substraction: tensor([[0., 0., 0.],\n",
            "        [0., 0., 0.],\n",
            "        [0., 0., 0.]])\n",
            "\n",
            "Element wise multiplication: tensor([[1., 1., 1.],\n",
            "        [1., 1., 1.],\n",
            "        [1., 1., 1.]])\n",
            "\n",
            "Element wise division: tensor([[1., 1., 1.],\n",
            "        [1., 1., 1.],\n",
            "        [1., 1., 1.]])\n",
            "\n",
            "Mean: 3.0\n",
            "std: 1.5811388492584229\n"
          ]
        }
      ]
    },
    {
      "cell_type": "code",
      "source": [
        "from torch.autograd import Variable\n",
        "\n",
        "var = Variable(torch.ones(3), requires_grad=True)\n",
        "var"
      ],
      "metadata": {
        "colab": {
          "base_uri": "https://localhost:8080/"
        },
        "id": "s0wnTYohZz4a",
        "outputId": "ad4eb7d6-d1ce-4ec3-9a8a-bf29731abd99"
      },
      "execution_count": 12,
      "outputs": [
        {
          "output_type": "execute_result",
          "data": {
            "text/plain": [
              "tensor([1., 1., 1.], requires_grad=True)"
            ]
          },
          "metadata": {},
          "execution_count": 12
        }
      ]
    },
    {
      "cell_type": "code",
      "source": [
        "array = [2,4]\n",
        "tensor = torch.Tensor(array)\n",
        "x = Variable(tensor, requires_grad=True)\n",
        "y = x**2\n",
        "print(\" y =  \", y)\n",
        "\n",
        "o = (1/2) * sum(y)\n",
        "print(\" o =  \", o)\n",
        "\n",
        "o.backward()\n",
        "\n",
        "print(\"gradients \", x.grad)"
      ],
      "metadata": {
        "colab": {
          "base_uri": "https://localhost:8080/"
        },
        "id": "u7m6ObrfaEZB",
        "outputId": "20fbec88-5169-449d-d99c-01368a92899b"
      },
      "execution_count": 13,
      "outputs": [
        {
          "output_type": "stream",
          "name": "stdout",
          "text": [
            " y =   tensor([ 4., 16.], grad_fn=<PowBackward0>)\n",
            " o =   tensor(10., grad_fn=<MulBackward0>)\n",
            "gradients  tensor([2., 4.])\n"
          ]
        }
      ]
    },
    {
      "cell_type": "markdown",
      "source": [
        "##Linear Regression"
      ],
      "metadata": {
        "id": "dO0w-ft0b4yh"
      }
    },
    {
      "cell_type": "code",
      "source": [
        "car_prices_array = [3,4,5,6,7,8,9]\n",
        "car_price_np = np.array(car_prices_array, dtype=np.float32)\n",
        "car_price_np = car_price_np.reshape(-1,1)\n",
        "car_price_tensor = Variable(torch.from_numpy(car_price_np))\n",
        "\n",
        "number_of_car_sell_array = [7.5,7,6.5,6.0,5.5,5.0,4.5]\n",
        "number_of_car_sell_np = np.array(number_of_car_sell_array, dtype=np.float32)\n",
        "number_of_car_sell_np = number_of_car_sell_np.reshape(-1,1)\n",
        "number_of_car_sell_tensor = Variable(torch.from_numpy(number_of_car_sell_np))\n",
        "\n",
        "import matplotlib.pyplot as plt\n",
        "plt.scatter(car_prices_array, number_of_car_sell_array)\n",
        "plt.xlabel(\"Car Price $\")\n",
        "plt.ylabel(\"Number of Car Sell\")\n",
        "plt.title(\"Car Price$ VS Number of Car Sell\")\n",
        "plt.show()"
      ],
      "metadata": {
        "colab": {
          "base_uri": "https://localhost:8080/",
          "height": 295
        },
        "id": "uLmGib9_b-MP",
        "outputId": "91234d8a-0767-4a52-ffe2-ed83fbd4d7cd"
      },
      "execution_count": 14,
      "outputs": [
        {
          "output_type": "display_data",
          "data": {
            "text/plain": [
              "<Figure size 432x288 with 1 Axes>"
            ],
            "image/png": "[encoded data removed]"
          },
          "metadata": {
            "needs_background": "light"
          }
        }
      ]
    },
    {
      "cell_type": "code",
      "source": [
        "import torch\n",
        "from torch.autograd import Variable\n",
        "import torch.nn as nn\n",
        "import warnings\n",
        "warnings.filterwarnings(\"ignore\")\n",
        "\n",
        "class LinearRegression(nn.Module):\n",
        "  def __init__(self, input_size, output_size):\n",
        "    super(LinearRegression, self).__init__()\n",
        "    self.linear = nn.Linear(input_dim, output_dim)\n",
        "\n",
        "  def forward(self, x):\n",
        "    return self.linear(x)\n",
        "\n",
        "input_dim = 1\n",
        "output_dim = 1\n",
        "model = LinearRegression(input_dim, output_dim)\n",
        "\n",
        "mse = nn.MSELoss()\n",
        "\n",
        "learning_rate = 0.02\n",
        "optimizer = torch.optim.SGD(model.parameters(), lr=learning_rate)\n",
        "\n",
        "loss_list = []\n",
        "iteration_number = 1001\n",
        "for iteration in range(iteration_number):\n",
        "  optimizer.zero_grad()\n",
        "\n",
        "  results = model(car_price_tensor)\n",
        "\n",
        "  loss = mse(results, number_of_car_sell_tensor)\n",
        "\n",
        "  loss.backward()\n",
        "\n",
        "  optimizer.step()\n",
        "\n",
        "  loss_list.append(loss.data)\n",
        "\n",
        "  if(iteration % 50 == 0):\n",
        "    print('epoch {}, loss {}'.format(iteration, loss.data))\n",
        "\n",
        "plt.plot(range(iteration_number), loss_list)\n",
        "plt.xlabel(\"Number of Iterations\")\n",
        "plt.ylabel(\"Loss\")\n",
        "plt.show()"
      ],
      "metadata": {
        "colab": {
          "base_uri": "https://localhost:8080/",
          "height": 665
        },
        "id": "4N1upAePdSW1",
        "outputId": "020577ee-93f4-4283-a68e-2575692cc9fb"
      },
      "execution_count": 15,
      "outputs": [
        {
          "output_type": "stream",
          "name": "stdout",
          "text": [
            "epoch 0, loss 9.799057006835938\n",
            "epoch 50, loss 6.416274547576904\n",
            "epoch 100, loss 4.335746765136719\n",
            "epoch 150, loss 2.9298458099365234\n",
            "epoch 200, loss 1.979819416999817\n",
            "epoch 250, loss 1.3378469944000244\n",
            "epoch 300, loss 0.9040396809577942\n",
            "epoch 350, loss 0.6108970642089844\n",
            "epoch 400, loss 0.41280871629714966\n",
            "epoch 450, loss 0.27895215153694153\n",
            "epoch 500, loss 0.18849945068359375\n",
            "epoch 550, loss 0.12737667560577393\n",
            "epoch 600, loss 0.0860736146569252\n",
            "epoch 650, loss 0.05816349387168884\n",
            "epoch 700, loss 0.03930353745818138\n",
            "epoch 750, loss 0.02655928023159504\n",
            "epoch 800, loss 0.017947020009160042\n",
            "epoch 850, loss 0.012127491645514965\n",
            "epoch 900, loss 0.008195132948458195\n",
            "epoch 950, loss 0.005537779536098242\n",
            "epoch 1000, loss 0.0037421199958771467\n"
          ]
        },
        {
          "output_type": "display_data",
          "data": {
            "text/plain": [
              "<Figure size 432x288 with 1 Axes>"
            ],
            "image/png": "[encoded data removed]"
          },
          "metadata": {
            "needs_background": "light"
          }
        }
      ]
    },
    {
      "cell_type": "code",
      "source": [
        "predicted = model(car_price_tensor).data.numpy()\n",
        "plt.scatter(car_prices_array, number_of_car_sell_array, label=\"original data\", color=\"red\")\n",
        "plt.scatter(car_prices_array,predicted,label=\"predicted data\",color=\"blue\")\n",
        "\n",
        "plt.legend()\n",
        "plt.xlabel(\"Car Price $\")\n",
        "plt.ylabel(\"Number of Car Sell\")\n",
        "plt.title(\"Original vs Predicted values\")\n",
        "plt.show()"
      ],
      "metadata": {
        "colab": {
          "base_uri": "https://localhost:8080/",
          "height": 295
        },
        "id": "5wqI3NsdfRnS",
        "outputId": "8c913a3f-430b-4901-d8d8-d8faeef97043"
      },
      "execution_count": 16,
      "outputs": [
        {
          "output_type": "display_data",
          "data": {
            "text/plain": [
              "<Figure size 432x288 with 1 Axes>"
            ],
            "image/png": "[encoded data removed]"
          },
          "metadata": {
            "needs_background": "light"
          }
        }
      ]
    },
    {
      "cell_type": "markdown",
      "source": [
        "##Logistic Regression"
      ],
      "metadata": {
        "id": "n-RLuunyf4XF"
      }
    },
    {
      "cell_type": "code",
      "source": [
        "import torch\n",
        "import torch.nn as nn\n",
        "from torch.autograd import Variable\n",
        "from torch.utils.data import DataLoader\n",
        "import pandas as pd\n",
        "from sklearn.model_selection import train_test_split"
      ],
      "metadata": {
        "id": "hOBrCbvMf77y"
      },
      "execution_count": 17,
      "outputs": []
    },
    {
      "cell_type": "code",
      "source": [
        "train = pd.read_csv(r\"./train.csv\", dtype=np.float32)\n",
        "\n",
        "targets_numpy = train.label.values\n",
        "features_numpy = train.loc[:,train.columns != \"label\"].values / 255\n",
        "\n",
        "features_train, features_test, targets_train, targets_test = train_test_split(features_numpy, targets_numpy, test_size=0.2, random_state=42)\n",
        "\n",
        "featuresTrain = torch.from_numpy(features_train)\n",
        "targetsTrain = torch.from_numpy(targets_train).type(torch.LongTensor)\n",
        "\n",
        "featuresTest = torch.from_numpy(features_test)\n",
        "targetsTest = torch.from_numpy(targets_test).type(torch.LongTensor)\n",
        "\n",
        "batch_size = 100\n",
        "n_iters = 10000\n",
        "num_epochs = n_iters / (len(features_train) / batch_size)\n",
        "num_epochs = int(num_epochs)\n",
        "\n",
        "train = torch.utils.data.TensorDataset(featuresTrain, targetsTrain)\n",
        "test = torch.utils.data.TensorDataset(featuresTest, targetsTest)\n",
        "\n",
        "train_loader = DataLoader(train, batch_size = batch_size, shuffle = False)\n",
        "test_loader = DataLoader(test, batch_size = batch_size, shuffle = False)\n",
        "\n",
        "plt.imshow(features_numpy[10].reshape(28,28))\n",
        "plt.axis(\"off\")\n",
        "plt.title(str(targets_numpy[10]))\n",
        "plt.savefig(\"graph.png\")\n",
        "plt.show()"
      ],
      "metadata": {
        "colab": {
          "base_uri": "https://localhost:8080/",
          "height": 264
        },
        "id": "rxatmVgqh0jn",
        "outputId": "58d8f7ed-964a-468a-f7d8-698319c3d1dd"
      },
      "execution_count": 24,
      "outputs": [
        {
          "output_type": "display_data",
          "data": {
            "text/plain": [
              "<Figure size 432x288 with 1 Axes>"
            ],
            "image/png": "[encoded data removed]"
          },
          "metadata": {
            "needs_background": "light"
          }
        }
      ]
    },
    {
      "cell_type": "code",
      "source": [
        "class LogisticRegressionModel(nn.Module):\n",
        "  def __init__(self, input_dim, output_dim):\n",
        "    super(LogisticRegressionModel, self).__init__()\n",
        "\n",
        "    self.linear = nn.Linear(input_dim, output_dim)\n",
        "\n",
        "  def forward(self, x):\n",
        "    out = self.linear(x)\n",
        "    return out\n",
        "\n",
        "input_dim = 28*28\n",
        "output_dim = 10\n",
        "\n",
        "model = LogisticRegressionModel(input_dim, output_dim)\n",
        "\n",
        "error = nn.CrossEntropyLoss()\n",
        "\n",
        "learning_rate = 0.001\n",
        "optimizer = torch.optim.SGD(model.parameters(), lr=learning_rate)"
      ],
      "metadata": {
        "id": "dU1V6hNcjJGG"
      },
      "execution_count": 25,
      "outputs": []
    },
    {
      "cell_type": "code",
      "source": [
        "count = 0\n",
        "loss_list = []\n",
        "iteration_list = []\n",
        "for epoch in range(num_epochs):\n",
        "  for i, (images, labels) in enumerate(train_loader):\n",
        "    train = Variable(images.view(-1, 28*28))\n",
        "    labels = Variable(labels)\n",
        "\n",
        "    optimizer.zero_grad()\n",
        "\n",
        "    outputs = model(train)\n",
        "\n",
        "    loss = error(outputs, labels)\n",
        "\n",
        "    loss.backward()\n",
        "\n",
        "    optimizer.step()\n",
        "\n",
        "    count += 1\n",
        "\n",
        "    if count % 50 == 0:\n",
        "      correct = 0\n",
        "      total = 0\n",
        "      for images, labels in test_loader:\n",
        "        test = Variable(images.view(-1, 28*28))\n",
        "\n",
        "        outputs = model(test)\n",
        "\n",
        "        predicted = torch.max(outputs.data, 1)[1]\n",
        "\n",
        "        total += len(labels)\n",
        "\n",
        "        correct += (predicted == labels).sum()\n",
        "\n",
        "      accuracy = 100 * correct / float(total)\n",
        "\n",
        "      loss_list.append(loss.data)\n",
        "      iteration_list.append(count)\n",
        "\n",
        "    if count % 500 == 0:\n",
        "      print(\"Iteration: {} Loss: {} Accuracy: {}%\".format(count, loss.data, accuracy))"
      ],
      "metadata": {
        "colab": {
          "base_uri": "https://localhost:8080/"
        },
        "id": "_CD4sdGjlzhc",
        "outputId": "06c6df68-5bc5-4009-8340-c065f153c164"
      },
      "execution_count": 29,
      "outputs": [
        {
          "output_type": "stream",
          "name": "stdout",
          "text": [
            "Iteration: 500 Loss: 0.5772340297698975 Accuracy: 85.9047622680664%\n",
            "Iteration: 1000 Loss: 0.6624728441238403 Accuracy: 86.07142639160156%\n",
            "Iteration: 1500 Loss: 0.4839218258857727 Accuracy: 86.17857360839844%\n",
            "Iteration: 2000 Loss: 0.583400547504425 Accuracy: 86.3452377319336%\n",
            "Iteration: 2500 Loss: 0.5320368409156799 Accuracy: 86.44047546386719%\n",
            "Iteration: 3000 Loss: 0.4071768522262573 Accuracy: 86.54762268066406%\n",
            "Iteration: 3500 Loss: 0.5384887456893921 Accuracy: 86.70237731933594%\n",
            "Iteration: 4000 Loss: 0.39599114656448364 Accuracy: 86.75%\n",
            "Iteration: 4500 Loss: 0.7060171365737915 Accuracy: 86.8452377319336%\n",
            "Iteration: 5000 Loss: 0.5236248970031738 Accuracy: 87.03571319580078%\n",
            "Iteration: 5500 Loss: 0.5125189423561096 Accuracy: 87.07142639160156%\n",
            "Iteration: 6000 Loss: 0.6553799510002136 Accuracy: 87.14286041259766%\n",
            "Iteration: 6500 Loss: 0.44657301902770996 Accuracy: 87.16666412353516%\n",
            "Iteration: 7000 Loss: 0.526923418045044 Accuracy: 87.32142639160156%\n",
            "Iteration: 7500 Loss: 0.46067506074905396 Accuracy: 87.3452377319336%\n",
            "Iteration: 8000 Loss: 0.5860595107078552 Accuracy: 87.45237731933594%\n",
            "Iteration: 8500 Loss: 0.41485872864723206 Accuracy: 87.44047546386719%\n",
            "Iteration: 9000 Loss: 0.4952349066734314 Accuracy: 87.47618865966797%\n",
            "Iteration: 9500 Loss: 0.4163612425327301 Accuracy: 87.47618865966797%\n"
          ]
        }
      ]
    },
    {
      "cell_type": "code",
      "source": [
        "plt.plot(iteration_list, loss_list)\n",
        "plt.xlabel(\"Number of iteration\")\n",
        "plt.ylabel(\"Loss\")\n",
        "plt.title(\"Logistic Regression : Loss vs Number of iteration\")\n",
        "plt.show()"
      ],
      "metadata": {
        "colab": {
          "base_uri": "https://localhost:8080/",
          "height": 295
        },
        "id": "XRyNlu9NoYRJ",
        "outputId": "4e0aee5c-620d-4519-aa35-4e3fa45dfbdb"
      },
      "execution_count": 30,
      "outputs": [
        {
          "output_type": "display_data",
          "data": {
            "text/plain": [
              "<Figure size 432x288 with 1 Axes>"
            ],
            "image/png": "[encoded data removed]"
          },
          "metadata": {
            "needs_background": "light"
          }
        }
      ]
    },
    {
      "cell_type": "markdown",
      "source": [
        "##Artifical Neural Network (ANN)"
      ],
      "metadata": {
        "id": "k0ohBgcmpb6_"
      }
    },
    {
      "cell_type": "code",
      "source": [
        "import torch\n",
        "import torch.nn as nn\n",
        "from torch.autograd import Variable"
      ],
      "metadata": {
        "id": "vJgqQ6aZpfhx"
      },
      "execution_count": 31,
      "outputs": []
    },
    {
      "cell_type": "code",
      "source": [
        "class ANNModel(nn.Module):\n",
        "  def __init__(self, input_dim, hidden_dim, output_dim):\n",
        "    super(ANNModel, self).__init__()\n",
        "\n",
        "    self.fc1 = nn.Linear(input_dim, hidden_dim)\n",
        "    self.relu1 = nn.ReLU()\n",
        "\n",
        "    self.fc2 = nn.Linear(hidden_dim, hidden_dim)\n",
        "    self.tanh2 = nn.Tanh()\n",
        "\n",
        "    self.fc3 = nn.Linear(hidden_dim, hidden_dim)\n",
        "    self.elu3 = nn.ELU()\n",
        "\n",
        "    self.fc4 = nn.Linear(hidden_dim, output_dim)\n",
        "\n",
        "  def forward(self, x):\n",
        "    out = self.fc1(x)\n",
        "    out = self.relu1(out)\n",
        "\n",
        "    out = self.fc2(out)\n",
        "    out = self.tanh2(out)\n",
        "\n",
        "    out = self.fc3(out)\n",
        "    out = self.elu3(out)\n",
        "\n",
        "    out = self.fc4(out)\n",
        "    return out\n",
        "\n",
        "input_dim = 28*28\n",
        "hidden_dim = 150\n",
        "output_dim = 10\n",
        "\n",
        "model = ANNModel(input_dim, hidden_dim, output_dim)\n",
        "\n",
        "error = nn.CrossEntropyLoss()\n",
        "\n",
        "learning_rate = 0.02\n",
        "optimizer = torch.optim.SGD(model.parameters(), lr=learning_rate)"
      ],
      "metadata": {
        "id": "ZN8xq_0Hqu3R"
      },
      "execution_count": 32,
      "outputs": []
    },
    {
      "cell_type": "code",
      "source": [
        "count = 0\n",
        "loss_list = []\n",
        "iteration_list = []\n",
        "accuracy_list = []\n",
        "\n",
        "for epoch in range(num_epochs):\n",
        "  for i, (images, labels) in enumerate(train_loader):\n",
        "    train = Variable(images.view(-1, 28*28))\n",
        "    labels = Variable(labels)\n",
        "\n",
        "    optimizer.zero_grad()\n",
        "\n",
        "    outputs = model(train)\n",
        "\n",
        "    loss = error(outputs, labels)\n",
        "\n",
        "    loss.backward()\n",
        "\n",
        "    optimizer.step()\n",
        "\n",
        "    count += 1\n",
        "\n",
        "    if count % 50 == 0:\n",
        "      correct = 0\n",
        "      total = 0\n",
        "      for images, labels in test_loader:\n",
        "        test = Variable(images.view(-1, 28*28))\n",
        "\n",
        "        outputs = model(test)\n",
        "\n",
        "        predicted = torch.max(outputs.data, 1)[1]\n",
        "\n",
        "        total += len(labels)\n",
        "\n",
        "        correct += (predicted == labels).sum()\n",
        "\n",
        "      accuracy = 100 * correct / float(total)\n",
        "\n",
        "      loss_list.append(loss.data)\n",
        "      iteration_list.append(count)\n",
        "      accuracy_list.append(accuracy)\n",
        "    if count % 500 == 0:\n",
        "      print(\"Iteration: {} Loss: {} Accuracy: {} %\".format(count,loss.data, accuracy))"
      ],
      "metadata": {
        "colab": {
          "base_uri": "https://localhost:8080/"
        },
        "id": "6mTDrn2brlLw",
        "outputId": "9ba5bb2a-d619-4a50-fc01-f0b334df4723"
      },
      "execution_count": 33,
      "outputs": [
        {
          "output_type": "stream",
          "name": "stdout",
          "text": [
            "Iteration: 500 Loss: 0.7678138613700867 Accuracy: 79.69047546386719\n",
            "Iteration: 1000 Loss: 0.4403027296066284 Accuracy: 87.85713958740234\n",
            "Iteration: 1500 Loss: 0.22873422503471375 Accuracy: 89.38095092773438\n",
            "Iteration: 2000 Loss: 0.31737062335014343 Accuracy: 90.55952453613281\n",
            "Iteration: 2500 Loss: 0.3142634332180023 Accuracy: 91.91666412353516\n",
            "Iteration: 3000 Loss: 0.13101139664649963 Accuracy: 92.71428680419922\n",
            "Iteration: 3500 Loss: 0.2579497694969177 Accuracy: 93.45237731933594\n",
            "Iteration: 4000 Loss: 0.06563959270715714 Accuracy: 93.98809814453125\n",
            "Iteration: 4500 Loss: 0.3197892904281616 Accuracy: 94.45237731933594\n",
            "Iteration: 5000 Loss: 0.1001601442694664 Accuracy: 94.78571319580078\n",
            "Iteration: 5500 Loss: 0.21619422733783722 Accuracy: 95.0\n",
            "Iteration: 6000 Loss: 0.18377359211444855 Accuracy: 95.17857360839844\n",
            "Iteration: 6500 Loss: 0.09549741446971893 Accuracy: 95.46428680419922\n",
            "Iteration: 7000 Loss: 0.11501016467809677 Accuracy: 95.77381134033203\n",
            "Iteration: 7500 Loss: 0.1163225919008255 Accuracy: 95.73809814453125\n",
            "Iteration: 8000 Loss: 0.18133796751499176 Accuracy: 96.07142639160156\n",
            "Iteration: 8500 Loss: 0.06377711147069931 Accuracy: 96.23809814453125\n",
            "Iteration: 9000 Loss: 0.052926186472177505 Accuracy: 96.33333587646484\n",
            "Iteration: 9500 Loss: 0.01923096366226673 Accuracy: 96.41666412353516\n"
          ]
        }
      ]
    },
    {
      "cell_type": "code",
      "source": [
        "plt.plot(iteration_list, loss_list)\n",
        "plt.xlabel(\"Number of iteration\")\n",
        "plt.ylabel(\"Loss\")\n",
        "plt.title(\"ANN: Loss vs Number of iteration\")\n",
        "plt.show()\n",
        "\n",
        "plt.plot(iteration_list, accuracy_list, color = \"red\")\n",
        "plt.xlabel(\"Number of iteration\")\n",
        "plt.ylabel(\"Accuracy\")\n",
        "plt.title(\"ANN: Accuracy vs Number of iteration\")\n",
        "plt.show()"
      ],
      "metadata": {
        "colab": {
          "base_uri": "https://localhost:8080/",
          "height": 573
        },
        "id": "GZi1ycSYsYjX",
        "outputId": "5138d808-c9ee-412e-c912-d7fa9984d91b"
      },
      "execution_count": 34,
      "outputs": [
        {
          "output_type": "display_data",
          "data": {
            "text/plain": [
              "<Figure size 432x288 with 1 Axes>"
            ],
            "image/png": "[encoded data removed]"
          },
          "metadata": {
            "needs_background": "light"
          }
        },
        {
          "output_type": "display_data",
          "data": {
            "text/plain": [
              "<Figure size 432x288 with 1 Axes>"
            ],
            "image/png": "[encoded data removed]"
          },
          "metadata": {
            "needs_background": "light"
          }
        }
      ]
    },
    {
      "cell_type": "markdown",
      "source": [
        "##Convolutional Neural Network (CNN)"
      ],
      "metadata": {
        "id": "N1II3qKgtHLA"
      }
    },
    {
      "cell_type": "code",
      "source": [
        "import torch\n",
        "import torch.nn as nn\n",
        "from torch.autograd import Variable"
      ],
      "metadata": {
        "id": "F1cLAyz0tN0z"
      },
      "execution_count": 35,
      "outputs": []
    },
    {
      "cell_type": "code",
      "source": [
        "class CNNModel(nn.Module):\n",
        "  def __init__(self):\n",
        "    super(CNNModel, self).__init__()\n",
        "\n",
        "    self.cnn1 = nn.Conv2d(in_channels=1, out_channels=16, kernel_size=5, stride=1, padding=0)\n",
        "    self.relu1 = nn.ReLU()\n",
        "\n",
        "    self.maxpool1 = nn.MaxPool2d(kernel_size=2)\n",
        "\n",
        "    self.cnn2 = nn.Conv2d(in_channels=16, out_channels=32, kernel_size=5, stride=1, padding=0)\n",
        "    self.relu2 = nn.ReLU()\n",
        "\n",
        "    self.maxpool2 = nn.MaxPool2d(kernel_size=2)\n",
        "\n",
        "    self.fc1 = nn.Linear(32 * 4 * 4, 10)\n",
        "\n",
        "  def forward(self, x):\n",
        "    out = self.cnn1(x)\n",
        "    out = self.relu1(out)\n",
        "\n",
        "    out = self.maxpool1(out)\n",
        "\n",
        "    out = self.cnn2(out)\n",
        "    out = self.relu2(out)\n",
        "\n",
        "    out = self.maxpool2(out)\n",
        "\n",
        "    out = out.view(out.size(0), -1)\n",
        "\n",
        "    out = self.fc1(out)\n",
        "\n",
        "    return out\n",
        "\n",
        "batch_size = 100\n",
        "n_iters = 2500\n",
        "num_epochs = n_iters / (len(features_train) / batch_size)\n",
        "num_epochs = int(num_epochs)\n",
        "\n",
        "train = torch.utils.data.TensorDataset(featuresTrain, targetsTrain)\n",
        "test = torch.utils.data.TensorDataset(featuresTest, targetsTest)\n",
        "\n",
        "train_loader = torch.utils.data.DataLoader(train, batch_size = batch_size, shuffle = False)\n",
        "test_loader = torch.utils.data.DataLoader(test, batch_size = batch_size, shuffle = False)\n",
        "\n",
        "model = CNNModel()\n",
        "\n",
        "error = nn.CrossEntropyLoss()\n",
        "\n",
        "learning_rate = 0.1\n",
        "optimizer = torch.optim.SGD(model.parameters(), lr=learning_rate)"
      ],
      "metadata": {
        "id": "NTVwlKPdtSFW"
      },
      "execution_count": 36,
      "outputs": []
    },
    {
      "cell_type": "code",
      "source": [
        "count = 0\n",
        "loss_list = []\n",
        "iteration_list = []\n",
        "accuracy_list = []\n",
        "for epoch in range(num_epochs):\n",
        "  for i, (images, labels) in enumerate(train_loader):\n",
        "    train = Variable(images.view(100, 1, 28, 28))\n",
        "    labels = Variable(labels)\n",
        "\n",
        "    optimizer.zero_grad()\n",
        "\n",
        "    outputs = model(train)\n",
        "\n",
        "    loss = error(outputs, labels)\n",
        "\n",
        "    loss.backward()\n",
        "\n",
        "    optimizer.step()\n",
        "\n",
        "    count += 1\n",
        "\n",
        "    if count % 50 == 0:\n",
        "      correct = 0\n",
        "      total = 0\n",
        "      for images, labels in test_loader:\n",
        "        test = Variable(images.view(100, 1, 28, 28))\n",
        "\n",
        "        outputs = model(test)\n",
        "\n",
        "        predicted = torch.max(outputs.data, 1)[1]\n",
        "\n",
        "        total += len(labels)\n",
        "\n",
        "        correct += (predicted == labels).sum()\n",
        "\n",
        "      accuracy = 100 * correct / float(total)\n",
        "\n",
        "      loss_list.append(loss.data)\n",
        "      iteration_list.append(count)\n",
        "      accuracy_list.append(accuracy)\n",
        "\n",
        "    if count % 500 == 0:\n",
        "      print(\"Iteration: {} Loss: {} Accuracy: {} %\".format(count, loss.data, accuracy))"
      ],
      "metadata": {
        "colab": {
          "base_uri": "https://localhost:8080/"
        },
        "id": "Uf6yzqh8vRVu",
        "outputId": "4f11acb2-9568-48a5-c38a-d7ecd38e3aca"
      },
      "execution_count": 37,
      "outputs": [
        {
          "output_type": "stream",
          "name": "stdout",
          "text": [
            "Iteration: 500 Loss: 0.09289906173944473 Accuracy: 96.64286041259766 %\n",
            "Iteration: 1000 Loss: 0.0389801487326622 Accuracy: 97.6547622680664 %\n",
            "Iteration: 1500 Loss: 0.0271344892680645 Accuracy: 97.78571319580078 %\n",
            "Iteration: 2000 Loss: 0.018469313159585 Accuracy: 98.30952453613281 %\n"
          ]
        }
      ]
    },
    {
      "cell_type": "code",
      "source": [
        "plt.plot(iteration_list, loss_list)\n",
        "plt.xlabel(\"Number of iteration\")\n",
        "plt.ylabel(\"Loss\")\n",
        "plt.title(\"CNN: Loss vs Nubmer of iteration\")\n",
        "plt.show()\n",
        "\n",
        "plt.plot(iteration_list, accuracy_list, color='red')\n",
        "plt.xlabel(\"Number of iteration\")\n",
        "plt.ylabel(\"Accuracy\")\n",
        "plt.title(\"CNN: Accuracy vs Number of iteration\")\n",
        "plt.show()"
      ],
      "metadata": {
        "colab": {
          "base_uri": "https://localhost:8080/",
          "height": 573
        },
        "id": "Ql_L28N-wDd-",
        "outputId": "54daeec1-fda4-4be7-864d-e8488bbbdad2"
      },
      "execution_count": 38,
      "outputs": [
        {
          "output_type": "display_data",
          "data": {
            "text/plain": [
              "<Figure size 432x288 with 1 Axes>"
            ],
            "image/png": "[encoded data removed]"
          },
          "metadata": {
            "needs_background": "light"
          }
        },
        {
          "output_type": "display_data",
          "data": {
            "text/plain": [
              "<Figure size 432x288 with 1 Axes>"
            ],
            "image/png": "[encoded data removed]"
          },
          "metadata": {
            "needs_background": "light"
          }
        }
      ]
    }
  ]
}